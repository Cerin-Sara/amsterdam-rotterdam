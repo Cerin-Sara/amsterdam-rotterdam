{
 "cells": [
  {
   "cell_type": "code",
   "execution_count": 1,
   "id": "a6aea157",
   "metadata": {},
   "outputs": [
    {
     "name": "stdout",
     "output_type": "stream",
     "text": [
      "Requirement already satisfied: plotly in c:\\python310\\lib\\site-packages (5.9.0)\n",
      "Requirement already satisfied: tenacity>=6.2.0 in c:\\python310\\lib\\site-packages (from plotly) (8.0.1)\n",
      "Note: you may need to restart the kernel to use updated packages.\n"
     ]
    },
    {
     "name": "stderr",
     "output_type": "stream",
     "text": [
      "WARNING: You are using pip version 22.0.4; however, version 22.2.1 is available.\n",
      "You should consider upgrading via the 'C:\\Python310\\python.exe -m pip install --upgrade pip' command.\n"
     ]
    }
   ],
   "source": [
    "pip install plotly\n"
   ]
  },
  {
   "cell_type": "code",
   "execution_count": 1,
   "id": "df89baa4",
   "metadata": {},
   "outputs": [],
   "source": [
    "import plotly.offline as pyo\n",
    "import plotly.graph_objs as go\n",
    "import pandas as pd"
   ]
  },
  {
   "cell_type": "code",
   "execution_count": 2,
   "id": "6e158d4d",
   "metadata": {},
   "outputs": [],
   "source": [
    "df = pd.read_csv('amsterdam_1.csv',encoding= 'unicode_escape')"
   ]
  },
  {
   "cell_type": "code",
   "execution_count": 6,
   "id": "8b4536f5",
   "metadata": {},
   "outputs": [
    {
     "data": {
      "text/html": [
       "<div>\n",
       "<style scoped>\n",
       "    .dataframe tbody tr th:only-of-type {\n",
       "        vertical-align: middle;\n",
       "    }\n",
       "\n",
       "    .dataframe tbody tr th {\n",
       "        vertical-align: top;\n",
       "    }\n",
       "\n",
       "    .dataframe thead th {\n",
       "        text-align: right;\n",
       "    }\n",
       "</style>\n",
       "<table border=\"1\" class=\"dataframe\">\n",
       "  <thead>\n",
       "    <tr style=\"text-align: right;\">\n",
       "      <th></th>\n",
       "      <th>URL</th>\n",
       "      <th>TITLE</th>\n",
       "      <th>LOCATION</th>\n",
       "      <th>PRICE PER MONTH</th>\n",
       "      <th>AREA IN m²</th>\n",
       "      <th>NUMBER OF ROOMS</th>\n",
       "      <th>INTERIOR</th>\n",
       "      <th>DESCRIPTION</th>\n",
       "      <th>OFFERED SINCE</th>\n",
       "      <th>AVAILABILITY</th>\n",
       "      <th>...</th>\n",
       "      <th>NUMBER OF BEDROOMS</th>\n",
       "      <th>NUMBER OF BATHROOMS</th>\n",
       "      <th>NUMBER OF FLOORS</th>\n",
       "      <th>DETAILS OF BALCONY</th>\n",
       "      <th>DETAILS OF GARDEN</th>\n",
       "      <th>DETAILS OF STORAGE</th>\n",
       "      <th>DESCRIPTION OF STORAGE</th>\n",
       "      <th>GARAGE</th>\n",
       "      <th>CONTACT DETAILS</th>\n",
       "      <th>TIMESTAMP</th>\n",
       "    </tr>\n",
       "  </thead>\n",
       "  <tbody>\n",
       "    <tr>\n",
       "      <th>0</th>\n",
       "      <td>https://www.pararius.com/apartment-for-rent/am...</td>\n",
       "      <td>Apartment Paramaribostraat 156 1</td>\n",
       "      <td>1058 VR (Westindische Buurt)</td>\n",
       "      <td>2950</td>\n",
       "      <td>102</td>\n",
       "      <td>4</td>\n",
       "      <td>Upholstered or furnished</td>\n",
       "      <td>For rent Amsterdam beautiful apartment 102m2: ...</td>\n",
       "      <td>2 weeks</td>\n",
       "      <td>01-09-2022</td>\n",
       "      <td>...</td>\n",
       "      <td>3</td>\n",
       "      <td>1</td>\n",
       "      <td>2</td>\n",
       "      <td>Present</td>\n",
       "      <td>Details of garden is not available</td>\n",
       "      <td>Not present</td>\n",
       "      <td>Details of description of the storage is not a...</td>\n",
       "      <td>No</td>\n",
       "      <td>https://www.pararius.com/contact/9cd278ec/amst...</td>\n",
       "      <td>2022-08-03 17:17:58</td>\n",
       "    </tr>\n",
       "    <tr>\n",
       "      <th>1</th>\n",
       "      <td>https://www.pararius.com/apartment-for-rent/am...</td>\n",
       "      <td>Apartment Kerdijkhof 22</td>\n",
       "      <td>1067 MN (Geuzenveld)</td>\n",
       "      <td>2100</td>\n",
       "      <td>86</td>\n",
       "      <td>3</td>\n",
       "      <td>Furnished</td>\n",
       "      <td>Details:</td>\n",
       "      <td>03-08-2022</td>\n",
       "      <td>03-10-2022</td>\n",
       "      <td>...</td>\n",
       "      <td>2</td>\n",
       "      <td>1</td>\n",
       "      <td>1</td>\n",
       "      <td>Not present</td>\n",
       "      <td>Details of garden is not available</td>\n",
       "      <td>Present</td>\n",
       "      <td>Details of description of the storage is not a...</td>\n",
       "      <td>Yes</td>\n",
       "      <td>https://www.pararius.com/contact/0f179e7f/amst...</td>\n",
       "      <td>2022-08-03 17:17:59</td>\n",
       "    </tr>\n",
       "    <tr>\n",
       "      <th>2</th>\n",
       "      <td>https://www.pararius.com/apartment-for-rent/am...</td>\n",
       "      <td>Apartment Kerkstraat</td>\n",
       "      <td>1017 HW (Grachtengordel-Zuid)</td>\n",
       "      <td>5000</td>\n",
       "      <td>120</td>\n",
       "      <td>3</td>\n",
       "      <td>Furnished</td>\n",
       "      <td>Spacious fully furnished two bedroom apartment...</td>\n",
       "      <td>03-08-2022</td>\n",
       "      <td>01-10-2022</td>\n",
       "      <td>...</td>\n",
       "      <td>2</td>\n",
       "      <td>1</td>\n",
       "      <td>Number of floors is not available</td>\n",
       "      <td>Present</td>\n",
       "      <td>Details of garden is not available</td>\n",
       "      <td>Not present</td>\n",
       "      <td>Details of description of the storage is not a...</td>\n",
       "      <td>No</td>\n",
       "      <td>https://www.pararius.com/contact/5db672d3/amst...</td>\n",
       "      <td>2022-08-03 17:18:00</td>\n",
       "    </tr>\n",
       "    <tr>\n",
       "      <th>3</th>\n",
       "      <td>https://www.pararius.com/apartment-for-rent/am...</td>\n",
       "      <td>Apartment Kleiburg 546</td>\n",
       "      <td>1104 EA (Bijlmer Oost (E,G,K))</td>\n",
       "      <td>1550</td>\n",
       "      <td>60</td>\n",
       "      <td>2</td>\n",
       "      <td>Furnished</td>\n",
       "      <td>PLEASE APPLY FOR VIEWING OVER E-MAIL ONLY.</td>\n",
       "      <td>03-08-2022</td>\n",
       "      <td>03-10-2022</td>\n",
       "      <td>...</td>\n",
       "      <td>1</td>\n",
       "      <td>1</td>\n",
       "      <td>1</td>\n",
       "      <td>Present</td>\n",
       "      <td>Details of garden is not available</td>\n",
       "      <td>Present</td>\n",
       "      <td>Details of description of the storage is not a...</td>\n",
       "      <td>Yes</td>\n",
       "      <td>https://www.pararius.com/contact/23d9a1d1/amst...</td>\n",
       "      <td>2022-08-03 17:18:01</td>\n",
       "    </tr>\n",
       "    <tr>\n",
       "      <th>4</th>\n",
       "      <td>https://www.pararius.com/apartment-for-rent/am...</td>\n",
       "      <td>Apartment Valkenburgerstraat 134 E</td>\n",
       "      <td>1011 NA (Nieuwmarkt/Lastage)</td>\n",
       "      <td>3150</td>\n",
       "      <td>95</td>\n",
       "      <td>3</td>\n",
       "      <td>Furnished</td>\n",
       "      <td>NIEUW IN DE VERHUUR! Luxe gemeubileerd 3-kamer...</td>\n",
       "      <td>03-08-2022</td>\n",
       "      <td>01-09-2022</td>\n",
       "      <td>...</td>\n",
       "      <td>2</td>\n",
       "      <td>2</td>\n",
       "      <td>1</td>\n",
       "      <td>Present</td>\n",
       "      <td>Details of garden is not available</td>\n",
       "      <td>Details of storage is not available</td>\n",
       "      <td>Details of description of the storage is not a...</td>\n",
       "      <td>Yes</td>\n",
       "      <td>https://www.pararius.com/contact/3129fe59/amst...</td>\n",
       "      <td>2022-08-03 17:18:02</td>\n",
       "    </tr>\n",
       "  </tbody>\n",
       "</table>\n",
       "<p>5 rows × 27 columns</p>\n",
       "</div>"
      ],
      "text/plain": [
       "                                                 URL  \\\n",
       "0  https://www.pararius.com/apartment-for-rent/am...   \n",
       "1  https://www.pararius.com/apartment-for-rent/am...   \n",
       "2  https://www.pararius.com/apartment-for-rent/am...   \n",
       "3  https://www.pararius.com/apartment-for-rent/am...   \n",
       "4  https://www.pararius.com/apartment-for-rent/am...   \n",
       "\n",
       "                                TITLE                        LOCATION  \\\n",
       "0    Apartment Paramaribostraat 156 1    1058 VR (Westindische Buurt)   \n",
       "1             Apartment Kerdijkhof 22            1067 MN (Geuzenveld)   \n",
       "2                Apartment Kerkstraat   1017 HW (Grachtengordel-Zuid)   \n",
       "3              Apartment Kleiburg 546  1104 EA (Bijlmer Oost (E,G,K))   \n",
       "4  Apartment Valkenburgerstraat 134 E    1011 NA (Nieuwmarkt/Lastage)   \n",
       "\n",
       "   PRICE PER MONTH  AREA IN m²  NUMBER OF ROOMS                  INTERIOR  \\\n",
       "0             2950         102                4  Upholstered or furnished   \n",
       "1             2100          86                3                 Furnished   \n",
       "2             5000         120                3                 Furnished   \n",
       "3             1550          60                2                 Furnished   \n",
       "4             3150          95                3                 Furnished   \n",
       "\n",
       "                                         DESCRIPTION OFFERED SINCE  \\\n",
       "0  For rent Amsterdam beautiful apartment 102m2: ...       2 weeks   \n",
       "1                                           Details:    03-08-2022   \n",
       "2  Spacious fully furnished two bedroom apartment...    03-08-2022   \n",
       "3         PLEASE APPLY FOR VIEWING OVER E-MAIL ONLY.    03-08-2022   \n",
       "4  NIEUW IN DE VERHUUR! Luxe gemeubileerd 3-kamer...    03-08-2022   \n",
       "\n",
       "  AVAILABILITY  ... NUMBER OF BEDROOMS NUMBER OF BATHROOMS  \\\n",
       "0   01-09-2022  ...                  3                   1   \n",
       "1   03-10-2022  ...                  2                   1   \n",
       "2   01-10-2022  ...                  2                   1   \n",
       "3   03-10-2022  ...                  1                   1   \n",
       "4   01-09-2022  ...                  2                   2   \n",
       "\n",
       "                    NUMBER OF FLOORS DETAILS OF BALCONY  \\\n",
       "0                                  2            Present   \n",
       "1                                  1        Not present   \n",
       "2  Number of floors is not available            Present   \n",
       "3                                  1            Present   \n",
       "4                                  1            Present   \n",
       "\n",
       "                    DETAILS OF GARDEN                   DETAILS OF STORAGE  \\\n",
       "0  Details of garden is not available                          Not present   \n",
       "1  Details of garden is not available                              Present   \n",
       "2  Details of garden is not available                          Not present   \n",
       "3  Details of garden is not available                              Present   \n",
       "4  Details of garden is not available  Details of storage is not available   \n",
       "\n",
       "                              DESCRIPTION OF STORAGE GARAGE  \\\n",
       "0  Details of description of the storage is not a...     No   \n",
       "1  Details of description of the storage is not a...    Yes   \n",
       "2  Details of description of the storage is not a...     No   \n",
       "3  Details of description of the storage is not a...    Yes   \n",
       "4  Details of description of the storage is not a...    Yes   \n",
       "\n",
       "                                     CONTACT DETAILS            TIMESTAMP  \n",
       "0  https://www.pararius.com/contact/9cd278ec/amst...  2022-08-03 17:17:58  \n",
       "1  https://www.pararius.com/contact/0f179e7f/amst...  2022-08-03 17:17:59  \n",
       "2  https://www.pararius.com/contact/5db672d3/amst...  2022-08-03 17:18:00  \n",
       "3  https://www.pararius.com/contact/23d9a1d1/amst...  2022-08-03 17:18:01  \n",
       "4  https://www.pararius.com/contact/3129fe59/amst...  2022-08-03 17:18:02  \n",
       "\n",
       "[5 rows x 27 columns]"
      ]
     },
     "execution_count": 6,
     "metadata": {},
     "output_type": "execute_result"
    }
   ],
   "source": [
    "df.head()"
   ]
  },
  {
   "cell_type": "code",
   "execution_count": 6,
   "id": "3c14845c",
   "metadata": {},
   "outputs": [],
   "source": [
    "df_hg=pd.pivot_table(df,index='NUMBER OF ROOMS',values='PRICE PER MONTH')"
   ]
  },
  {
   "cell_type": "code",
   "execution_count": 13,
   "id": "5a7237f1",
   "metadata": {},
   "outputs": [
    {
     "data": {
      "text/html": [
       "<div>\n",
       "<style scoped>\n",
       "    .dataframe tbody tr th:only-of-type {\n",
       "        vertical-align: middle;\n",
       "    }\n",
       "\n",
       "    .dataframe tbody tr th {\n",
       "        vertical-align: top;\n",
       "    }\n",
       "\n",
       "    .dataframe thead th {\n",
       "        text-align: right;\n",
       "    }\n",
       "</style>\n",
       "<table border=\"1\" class=\"dataframe\">\n",
       "  <thead>\n",
       "    <tr style=\"text-align: right;\">\n",
       "      <th></th>\n",
       "      <th>PRICE PER MONTH</th>\n",
       "    </tr>\n",
       "    <tr>\n",
       "      <th>NUMBER OF ROOMS</th>\n",
       "      <th></th>\n",
       "    </tr>\n",
       "  </thead>\n",
       "  <tbody>\n",
       "    <tr>\n",
       "      <th>1</th>\n",
       "      <td>1439.157895</td>\n",
       "    </tr>\n",
       "    <tr>\n",
       "      <th>2</th>\n",
       "      <td>2050.556522</td>\n",
       "    </tr>\n",
       "    <tr>\n",
       "      <th>3</th>\n",
       "      <td>2452.162996</td>\n",
       "    </tr>\n",
       "    <tr>\n",
       "      <th>4</th>\n",
       "      <td>3051.385714</td>\n",
       "    </tr>\n",
       "    <tr>\n",
       "      <th>5</th>\n",
       "      <td>4092.307692</td>\n",
       "    </tr>\n",
       "    <tr>\n",
       "      <th>6</th>\n",
       "      <td>4577.777778</td>\n",
       "    </tr>\n",
       "    <tr>\n",
       "      <th>7</th>\n",
       "      <td>6337.500000</td>\n",
       "    </tr>\n",
       "    <tr>\n",
       "      <th>8</th>\n",
       "      <td>5075.000000</td>\n",
       "    </tr>\n",
       "    <tr>\n",
       "      <th>9</th>\n",
       "      <td>9125.000000</td>\n",
       "    </tr>\n",
       "    <tr>\n",
       "      <th>10</th>\n",
       "      <td>4500.000000</td>\n",
       "    </tr>\n",
       "    <tr>\n",
       "      <th>12</th>\n",
       "      <td>13000.000000</td>\n",
       "    </tr>\n",
       "  </tbody>\n",
       "</table>\n",
       "</div>"
      ],
      "text/plain": [
       "                 PRICE PER MONTH\n",
       "NUMBER OF ROOMS                 \n",
       "1                    1439.157895\n",
       "2                    2050.556522\n",
       "3                    2452.162996\n",
       "4                    3051.385714\n",
       "5                    4092.307692\n",
       "6                    4577.777778\n",
       "7                    6337.500000\n",
       "8                    5075.000000\n",
       "9                    9125.000000\n",
       "10                   4500.000000\n",
       "12                  13000.000000"
      ]
     },
     "execution_count": 13,
     "metadata": {},
     "output_type": "execute_result"
    }
   ],
   "source": [
    "df_hg.head(12)"
   ]
  },
  {
   "cell_type": "code",
   "execution_count": 9,
   "id": "d65a8fed",
   "metadata": {},
   "outputs": [],
   "source": [
    "data = [go.Scatter(\n",
    "    x=df_hg.index,\n",
    "    y=df_hg.values,\n",
    "    mode='lines',\n",
    "    name= 'Average rate of room'\n",
    ")]"
   ]
  },
  {
   "cell_type": "code",
   "execution_count": 10,
   "id": "11a5328e",
   "metadata": {},
   "outputs": [],
   "source": [
    "layout=go.Layout(title='Average rate of room')"
   ]
  },
  {
   "cell_type": "code",
   "execution_count": 11,
   "id": "2174ed47",
   "metadata": {},
   "outputs": [
    {
     "data": {
      "text/plain": [
       "'temp-plot.html'"
      ]
     },
     "execution_count": 11,
     "metadata": {},
     "output_type": "execute_result"
    }
   ],
   "source": [
    "figure=go.Figure(data=data,layout=layout)\n",
    "pyo.plot(figure)"
   ]
  },
  {
   "cell_type": "code",
   "execution_count": 3,
   "id": "2941a9d9",
   "metadata": {},
   "outputs": [
    {
     "ename": "ImportError",
     "evalue": "cannot import name 'Dash' from partially initialized module 'dash' (most likely due to a circular import) (C:\\Users\\sarac\\Desktop\\python\\graph\\dash.py)",
     "output_type": "error",
     "traceback": [
      "\u001b[1;31m---------------------------------------------------------------------------\u001b[0m",
      "\u001b[1;31mImportError\u001b[0m                               Traceback (most recent call last)",
      "Input \u001b[1;32mIn [3]\u001b[0m, in \u001b[0;36m<cell line: 1>\u001b[1;34m()\u001b[0m\n\u001b[1;32m----> 1\u001b[0m \u001b[38;5;28;01mfrom\u001b[39;00m \u001b[38;5;21;01mdash\u001b[39;00m \u001b[38;5;28;01mimport\u001b[39;00m \u001b[38;5;241m*\u001b[39m\n\u001b[0;32m      2\u001b[0m \u001b[38;5;28;01mimport\u001b[39;00m \u001b[38;5;21;01mplotly\u001b[39;00m\u001b[38;5;21;01m.\u001b[39;00m\u001b[38;5;21;01mexpress\u001b[39;00m \u001b[38;5;28;01mas\u001b[39;00m \u001b[38;5;21;01mpx\u001b[39;00m\n\u001b[0;32m      3\u001b[0m \u001b[38;5;28;01mimport\u001b[39;00m \u001b[38;5;21;01mpandas\u001b[39;00m \u001b[38;5;28;01mas\u001b[39;00m \u001b[38;5;21;01mpd\u001b[39;00m\n",
      "File \u001b[1;32m~\\Desktop\\python\\graph\\dash.py:1\u001b[0m, in \u001b[0;36m<module>\u001b[1;34m\u001b[0m\n\u001b[1;32m----> 1\u001b[0m \u001b[38;5;28;01mfrom\u001b[39;00m \u001b[38;5;21;01mdash\u001b[39;00m \u001b[38;5;28;01mimport\u001b[39;00m Dash, dcc, html, Input, Output\n\u001b[0;32m      2\u001b[0m \u001b[38;5;28;01mimport\u001b[39;00m \u001b[38;5;21;01mplotly\u001b[39;00m\u001b[38;5;21;01m.\u001b[39;00m\u001b[38;5;21;01mexpress\u001b[39;00m \u001b[38;5;28;01mas\u001b[39;00m \u001b[38;5;21;01mpx\u001b[39;00m\n\u001b[0;32m      4\u001b[0m app \u001b[38;5;241m=\u001b[39m Dash(\u001b[38;5;18m__name__\u001b[39m)\n",
      "\u001b[1;31mImportError\u001b[0m: cannot import name 'Dash' from partially initialized module 'dash' (most likely due to a circular import) (C:\\Users\\sarac\\Desktop\\python\\graph\\dash.py)"
     ]
    }
   ],
   "source": [
    "from dash import *\n",
    "import plotly.express as px\n",
    "import pandas as pd\n",
    "\n",
    "app = Dash(__name__)\n",
    "\n",
    "# assume you have a \"long-form\" data frame\n",
    "# see https://plotly.com/python/px-arguments/ for more options\n",
    "df = pd.DataFrame({\n",
    "    \"Fruit\": [\"Apples\", \"Oranges\", \"Bananas\", \"Apples\", \"Oranges\", \"Bananas\"],\n",
    "    \"Amount\": [4, 1, 2, 2, 4, 5],\n",
    "    \"City\": [\"SF\", \"SF\", \"SF\", \"Montreal\", \"Montreal\", \"Montreal\"]\n",
    "})\n",
    "\n",
    "fig = px.bar(df, x=\"Fruit\", y=\"Amount\", color=\"City\", barmode=\"group\")\n",
    "\n",
    "app.layout = html.Div(children=[\n",
    "    html.H1(children='Hello Dash'),\n",
    "    html.Div(children='''\n",
    "        Dash: A web application framework for your data.\n",
    "    '''),\n",
    "    dcc.Graph(\n",
    "        id='example-graph',\n",
    "        figure=fig\n",
    "    )\n",
    "])"
   ]
  },
  {
   "cell_type": "code",
   "execution_count": 2,
   "id": "511600c1",
   "metadata": {},
   "outputs": [
    {
     "name": "stdout",
     "output_type": "stream",
     "text": [
      "Requirement already satisfied: dash in c:\\python310\\lib\\site-packages (2.6.1)\n",
      "Requirement already satisfied: Flask>=1.0.4 in c:\\python310\\lib\\site-packages (from dash) (2.2.1)\n",
      "Requirement already satisfied: dash-html-components==2.0.0 in c:\\python310\\lib\\site-packages (from dash) (2.0.0)\n",
      "Requirement already satisfied: plotly>=5.0.0 in c:\\python310\\lib\\site-packages (from dash) (5.9.0)\n",
      "Requirement already satisfied: dash-core-components==2.0.0 in c:\\python310\\lib\\site-packages (from dash) (2.0.0)\n",
      "Requirement already satisfied: flask-compress in c:\\python310\\lib\\site-packages (from dash) (1.12)\n",
      "Requirement already satisfied: dash-table==5.0.0 in c:\\python310\\lib\\site-packages (from dash) (5.0.0)\n",
      "Requirement already satisfied: click>=8.0 in c:\\python310\\lib\\site-packages (from Flask>=1.0.4->dash) (8.1.3)\n",
      "Requirement already satisfied: itsdangerous>=2.0 in c:\\python310\\lib\\site-packages (from Flask>=1.0.4->dash) (2.1.2)\n",
      "Requirement already satisfied: Jinja2>=3.0 in c:\\users\\sarac\\appdata\\roaming\\python\\python310\\site-packages (from Flask>=1.0.4->dash) (3.1.2)\n",
      "Requirement already satisfied: Werkzeug>=2.2.0 in c:\\python310\\lib\\site-packages (from Flask>=1.0.4->dash) (2.2.1)\n",
      "Requirement already satisfied: tenacity>=6.2.0 in c:\\python310\\lib\\site-packages (from plotly>=5.0.0->dash) (8.0.1)\n",
      "Requirement already satisfied: brotli in c:\\python310\\lib\\site-packages (from flask-compress->dash) (1.0.9)\n",
      "Requirement already satisfied: colorama in c:\\users\\sarac\\appdata\\roaming\\python\\python310\\site-packages (from click>=8.0->Flask>=1.0.4->dash) (0.4.5)\n",
      "Requirement already satisfied: MarkupSafe>=2.0 in c:\\users\\sarac\\appdata\\roaming\\python\\python310\\site-packages (from Jinja2>=3.0->Flask>=1.0.4->dash) (2.1.1)\n",
      "Note: you may need to restart the kernel to use updated packages.\n"
     ]
    },
    {
     "name": "stderr",
     "output_type": "stream",
     "text": [
      "WARNING: You are using pip version 22.0.4; however, version 22.2.1 is available.\n",
      "You should consider upgrading via the 'C:\\Python310\\python.exe -m pip install --upgrade pip' command.\n"
     ]
    }
   ],
   "source": [
    "pip install dash"
   ]
  },
  {
   "cell_type": "code",
   "execution_count": 6,
   "id": "bddcf765",
   "metadata": {},
   "outputs": [
    {
     "ename": "ImportError",
     "evalue": "cannot import name 'Dash' from partially initialized module 'dash' (most likely due to a circular import) (C:\\Users\\sarac\\Desktop\\python\\graph\\dash.py)",
     "output_type": "error",
     "traceback": [
      "\u001b[1;31m---------------------------------------------------------------------------\u001b[0m",
      "\u001b[1;31mImportError\u001b[0m                               Traceback (most recent call last)",
      "Input \u001b[1;32mIn [6]\u001b[0m, in \u001b[0;36m<cell line: 1>\u001b[1;34m()\u001b[0m\n\u001b[1;32m----> 1\u001b[0m \u001b[38;5;28;01mfrom\u001b[39;00m \u001b[38;5;21;01mdash\u001b[39;00m \u001b[38;5;28;01mimport\u001b[39;00m \u001b[38;5;241m*\u001b[39m\n\u001b[0;32m      2\u001b[0m \u001b[38;5;28;01mimport\u001b[39;00m \u001b[38;5;21;01mplotly\u001b[39;00m\u001b[38;5;21;01m.\u001b[39;00m\u001b[38;5;21;01mexpress\u001b[39;00m \u001b[38;5;28;01mas\u001b[39;00m \u001b[38;5;21;01mpx\u001b[39;00m\n\u001b[0;32m      3\u001b[0m \u001b[38;5;28;01mimport\u001b[39;00m \u001b[38;5;21;01mpandas\u001b[39;00m \u001b[38;5;28;01mas\u001b[39;00m \u001b[38;5;21;01mpd\u001b[39;00m\n",
      "File \u001b[1;32m~\\Desktop\\python\\graph\\dash.py:1\u001b[0m, in \u001b[0;36m<module>\u001b[1;34m\u001b[0m\n\u001b[1;32m----> 1\u001b[0m \u001b[38;5;28;01mfrom\u001b[39;00m \u001b[38;5;21;01mdash\u001b[39;00m \u001b[38;5;28;01mimport\u001b[39;00m Dash, dcc, html, Input, Output\n\u001b[0;32m      2\u001b[0m \u001b[38;5;28;01mimport\u001b[39;00m \u001b[38;5;21;01mplotly\u001b[39;00m\u001b[38;5;21;01m.\u001b[39;00m\u001b[38;5;21;01mexpress\u001b[39;00m \u001b[38;5;28;01mas\u001b[39;00m \u001b[38;5;21;01mpx\u001b[39;00m\n\u001b[0;32m      4\u001b[0m app \u001b[38;5;241m=\u001b[39m Dash(\u001b[38;5;18m__name__\u001b[39m)\n",
      "\u001b[1;31mImportError\u001b[0m: cannot import name 'Dash' from partially initialized module 'dash' (most likely due to a circular import) (C:\\Users\\sarac\\Desktop\\python\\graph\\dash.py)"
     ]
    }
   ],
   "source": [
    "from dash import *\n",
    "import plotly.express as px\n",
    "import pandas as pd\n",
    "\n",
    "app = Dash(__name__)\n",
    "\n",
    "# assume you have a \"long-form\" data frame\n",
    "# see https://plotly.com/python/px-arguments/ for more options\n",
    "df = pd.DataFrame({\n",
    "    \"Fruit\": [\"Apples\", \"Oranges\", \"Bananas\", \"Apples\", \"Oranges\", \"Bananas\"],\n",
    "    \"Amount\": [4, 1, 2, 2, 4, 5],\n",
    "    \"City\": [\"SF\", \"SF\", \"SF\", \"Montreal\", \"Montreal\", \"Montreal\"]\n",
    "})\n",
    "\n",
    "fig = px.bar(df, x=\"Fruit\", y=\"Amount\", color=\"City\", barmode=\"group\")\n",
    "\n",
    "app.layout = html.Div(children=[\n",
    "    html.H1(children='Hello Dash'),\n",
    "    html.Div(children='''\n",
    "        Dash: A web application framework for your data.\n",
    "    '''),\n",
    "    dcc.Graph(\n",
    "        id='example-graph',\n",
    "        figure=fig\n",
    "    )\n",
    "])"
   ]
  },
  {
   "cell_type": "code",
   "execution_count": 7,
   "id": "53c8ff78",
   "metadata": {},
   "outputs": [
    {
     "ename": "ModuleNotFoundError",
     "evalue": "No module named 'plotly.express'; 'plotly' is not a package",
     "output_type": "error",
     "traceback": [
      "\u001b[1;31m---------------------------------------------------------------------------\u001b[0m",
      "\u001b[1;31mModuleNotFoundError\u001b[0m                       Traceback (most recent call last)",
      "Input \u001b[1;32mIn [7]\u001b[0m, in \u001b[0;36m<cell line: 1>\u001b[1;34m()\u001b[0m\n\u001b[1;32m----> 1\u001b[0m \u001b[38;5;28;01mimport\u001b[39;00m \u001b[38;5;21;01mplotly\u001b[39;00m\u001b[38;5;21;01m.\u001b[39;00m\u001b[38;5;21;01mgraph_objects\u001b[39;00m \u001b[38;5;28;01mas\u001b[39;00m \u001b[38;5;21;01mgo\u001b[39;00m\n\u001b[0;32m      2\u001b[0m fig \u001b[38;5;241m=\u001b[39m go\u001b[38;5;241m.\u001b[39mFigure(\n\u001b[0;32m      3\u001b[0m     data\u001b[38;5;241m=\u001b[39m[go\u001b[38;5;241m.\u001b[39mBar(y\u001b[38;5;241m=\u001b[39m[\u001b[38;5;241m2\u001b[39m, \u001b[38;5;241m1\u001b[39m, \u001b[38;5;241m3\u001b[39m])],\n\u001b[0;32m      4\u001b[0m     layout_title_text\u001b[38;5;241m=\u001b[39m\u001b[38;5;124m\"\u001b[39m\u001b[38;5;124mA Figure Displayed with fig.show()\u001b[39m\u001b[38;5;124m\"\u001b[39m\n\u001b[0;32m      5\u001b[0m )\n\u001b[0;32m      6\u001b[0m fig\u001b[38;5;241m.\u001b[39mshow()\n",
      "File \u001b[1;32m~\\Desktop\\python\\graph\\plotly.py:9\u001b[0m, in \u001b[0;36m<module>\u001b[1;34m\u001b[0m\n\u001b[0;32m      1\u001b[0m \u001b[38;5;66;03m# import plotly.express as px\u001b[39;00m\n\u001b[0;32m      2\u001b[0m \n\u001b[0;32m      3\u001b[0m \u001b[38;5;66;03m# long_df = px.data.medals_long()\u001b[39;00m\n\u001b[0;32m      4\u001b[0m \n\u001b[0;32m      5\u001b[0m \u001b[38;5;66;03m# fig = px.bar(long_df, x=\"nation\", y=\"count\", color=\"medal\", title=\"Long-Form Input\")\u001b[39;00m\n\u001b[0;32m      6\u001b[0m \u001b[38;5;66;03m# fig.show()\u001b[39;00m\n\u001b[1;32m----> 9\u001b[0m \u001b[38;5;28;01mimport\u001b[39;00m \u001b[38;5;21;01mplotly\u001b[39;00m\u001b[38;5;21;01m.\u001b[39;00m\u001b[38;5;21;01mexpress\u001b[39;00m \u001b[38;5;28;01mas\u001b[39;00m \u001b[38;5;21;01mpx\u001b[39;00m\n\u001b[0;32m     10\u001b[0m data_canada \u001b[38;5;241m=\u001b[39m px\u001b[38;5;241m.\u001b[39mdata\u001b[38;5;241m.\u001b[39mgapminder()\u001b[38;5;241m.\u001b[39mquery(\u001b[38;5;124m\"\u001b[39m\u001b[38;5;124mcountry == \u001b[39m\u001b[38;5;124m'\u001b[39m\u001b[38;5;124mCanada\u001b[39m\u001b[38;5;124m'\u001b[39m\u001b[38;5;124m\"\u001b[39m)\n\u001b[0;32m     11\u001b[0m fig \u001b[38;5;241m=\u001b[39m px\u001b[38;5;241m.\u001b[39mbar(data_canada, x\u001b[38;5;241m=\u001b[39m\u001b[38;5;124m'\u001b[39m\u001b[38;5;124myear\u001b[39m\u001b[38;5;124m'\u001b[39m, y\u001b[38;5;241m=\u001b[39m\u001b[38;5;124m'\u001b[39m\u001b[38;5;124mpop\u001b[39m\u001b[38;5;124m'\u001b[39m)\n",
      "\u001b[1;31mModuleNotFoundError\u001b[0m: No module named 'plotly.express'; 'plotly' is not a package"
     ]
    }
   ],
   "source": [
    "import plotly.graph_objects as go\n",
    "fig = go.Figure(\n",
    "    data=[go.Bar(y=[2, 1, 3])],\n",
    "    layout_title_text=\"A Figure Displayed with fig.show()\"\n",
    ")\n",
    "fig.show()"
   ]
  },
  {
   "cell_type": "code",
   "execution_count": null,
   "id": "5e5a73af",
   "metadata": {},
   "outputs": [],
   "source": []
  }
 ],
 "metadata": {
  "kernelspec": {
   "display_name": "Python 3 (ipykernel)",
   "language": "python",
   "name": "python3"
  },
  "language_info": {
   "codemirror_mode": {
    "name": "ipython",
    "version": 3
   },
   "file_extension": ".py",
   "mimetype": "text/x-python",
   "name": "python",
   "nbconvert_exporter": "python",
   "pygments_lexer": "ipython3",
   "version": "3.10.5"
  }
 },
 "nbformat": 4,
 "nbformat_minor": 5
}
